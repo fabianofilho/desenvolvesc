{
 "cells": [
  {
   "cell_type": "code",
   "execution_count": 1,
   "metadata": {},
   "outputs": [],
   "source": [
    "### IMPORTAR E INTEGRAR AS INFORMAÇÕES DAS BASES ###"
   ]
  },
  {
   "cell_type": "code",
   "execution_count": 2,
   "metadata": {},
   "outputs": [],
   "source": [
    "import pandas as pd\n",
    "import dask.dataframe as dd\n",
    "import pandas_profiling as pf"
   ]
  },
  {
   "cell_type": "code",
   "execution_count": 3,
   "metadata": {
    "scrolled": true
   },
   "outputs": [
    {
     "name": "stderr",
     "output_type": "stream",
     "text": [
      "C:\\Users\\fabia\\Miniconda3\\envs\\ds\\lib\\site-packages\\IPython\\core\\interactiveshell.py:3058: DtypeWarning: Columns (14,16) have mixed types. Specify dtype option on import or set low_memory=False.\n",
      "  interactivity=interactivity, compiler=compiler, result=result)\n",
      "C:\\Users\\fabia\\Miniconda3\\envs\\ds\\lib\\site-packages\\IPython\\core\\interactiveshell.py:3058: DtypeWarning: Columns (13) have mixed types. Specify dtype option on import or set low_memory=False.\n",
      "  interactivity=interactivity, compiler=compiler, result=result)\n"
     ]
    }
   ],
   "source": [
    "dfe = pd.read_csv('lista_espera_mp.csv')\n",
    "dfat = pd.read_csv('lista_atendidos_mp.csv')\n",
    "dfag = pd.read_csv('lista_agendados_mp.csv')"
   ]
  },
  {
   "cell_type": "markdown",
   "metadata": {},
   "source": []
  },
  {
   "cell_type": "code",
   "execution_count": 4,
   "metadata": {},
   "outputs": [
    {
     "data": {
      "text/plain": [
       "Exame                   5767064\n",
       "Consulta                1107062\n",
       "Outros procedimentos      51971\n",
       "Cirurgia eletiva          30434\n",
       "Name: SERVICO, dtype: int64"
      ]
     },
     "execution_count": 4,
     "metadata": {},
     "output_type": "execute_result"
    }
   ],
   "source": [
    "dfat.SERVICO.value_counts()"
   ]
  },
  {
   "cell_type": "code",
   "execution_count": 5,
   "metadata": {},
   "outputs": [
    {
     "data": {
      "text/plain": [
       "Exame                   2647508\n",
       "Consulta                 640493\n",
       "Outros procedimentos      39258\n",
       "Cirurgia eletiva          21535\n",
       "Name: SERVICO, dtype: int64"
      ]
     },
     "execution_count": 5,
     "metadata": {},
     "output_type": "execute_result"
    }
   ],
   "source": [
    "dfag.SERVICO.value_counts()"
   ]
  },
  {
   "cell_type": "code",
   "execution_count": 6,
   "metadata": {},
   "outputs": [],
   "source": [
    "atendimento = dfat[dfat['SERVICO'] == 'Consulta'] \n",
    "agendamento = dfag[dfag['SERVICO'] == 'Consulta']"
   ]
  },
  {
   "cell_type": "code",
   "execution_count": 7,
   "metadata": {},
   "outputs": [
    {
     "name": "stdout",
     "output_type": "stream",
     "text": [
      "<class 'pandas.core.frame.DataFrame'>\n",
      "Int64Index: 1107062 entries, 1 to 6956521\n",
      "Data columns (total 19 columns):\n",
      "SERVICO                                 1107062 non-null object\n",
      "CENTRAL_DE_REGULACAO_RESPONSAVEL        1107062 non-null object\n",
      "MUNICIPIO_DE_RESIDENCIA                 1107062 non-null object\n",
      "CLASSIFICACAO                           1107062 non-null object\n",
      "TIPO_DA_LISTA                           1107062 non-null object\n",
      "DOCUMENTO                               1107062 non-null int64\n",
      "DATA_DA_SOLICITACAO                     1107062 non-null object\n",
      "DATA_DA_MARCACAO                        1107062 non-null object\n",
      "DATA_DA_EXECUCAO                        1107062 non-null object\n",
      "CIDADAO                                 1107062 non-null object\n",
      "NASCIMENTO                              1107062 non-null object\n",
      "DESCRICAO_DO_PROCEDIMENTO               1107062 non-null object\n",
      "CNES_ESTABELECIMENTO_SOLICITANTE        1107062 non-null int64\n",
      "CNES_CENTRAL_REGULADORA_SOLICITANTE     1107062 non-null int64\n",
      "CNES_ESTABELECIMENTO_EXECUTANTE         1107062 non-null int64\n",
      "DESCRICAO_ESTABELECIMENTO_EXECUTANTE    0 non-null float64\n",
      "CODIGO_SIGTAP_DO_PROCEDIMENTO           1107062 non-null int64\n",
      "DESCRICAO_DO_GRUPO_DO_PROCEDIMENTO      52867 non-null object\n",
      "CONFIRMADO                              1107062 non-null int64\n",
      "dtypes: float64(1), int64(6), object(12)\n",
      "memory usage: 168.9+ MB\n"
     ]
    }
   ],
   "source": [
    "atendimento.info()"
   ]
  },
  {
   "cell_type": "code",
   "execution_count": 8,
   "metadata": {},
   "outputs": [
    {
     "name": "stdout",
     "output_type": "stream",
     "text": [
      "<class 'pandas.core.frame.DataFrame'>\n",
      "Int64Index: 640493 entries, 4 to 3348793\n",
      "Data columns (total 19 columns):\n",
      "SERVICO                                 640493 non-null object\n",
      "CENTRAL_DE_REGULACAO_RESPONSAVEL        640493 non-null object\n",
      "MUNICIPIO_DE_RESIDENCIA                 640493 non-null object\n",
      "CLASSIFICACAO                           640493 non-null object\n",
      "TIPO_DA_LISTA                           640493 non-null object\n",
      "DOCUMENTO                               640493 non-null int64\n",
      "DATA_DA_SOLICITACAO                     640493 non-null object\n",
      "DATA_DA_MARCACAO                        640493 non-null object\n",
      "DATA_DA_EXECUCAO                        640493 non-null object\n",
      "CIDADAO                                 640493 non-null object\n",
      "NASCIMENTO                              640493 non-null object\n",
      "DESCRICAO_DO_PROCEDIMENTO               640493 non-null object\n",
      "CNES_ESTABELECIMENTO_SOLICITANTE        640493 non-null int64\n",
      "CNES_CENTRAL_REGULADORA_SOLICITANTE     640493 non-null object\n",
      "CNES_ESTABELECIMENTO_EXECUTANTE         640493 non-null int64\n",
      "DESCRICAO_ESTABELECIMENTO_EXECUTANTE    0 non-null float64\n",
      "CODIGO_SIGTAP_DO_PROCEDIMENTO           640493 non-null int64\n",
      "DESCRICAO_DO_GRUPO_DO_PROCEDIMENTO      30203 non-null object\n",
      "CONFIRMADO                              0 non-null float64\n",
      "dtypes: float64(2), int64(4), object(13)\n",
      "memory usage: 97.7+ MB\n"
     ]
    }
   ],
   "source": [
    "agendamento.info()"
   ]
  },
  {
   "cell_type": "code",
   "execution_count": 9,
   "metadata": {},
   "outputs": [
    {
     "name": "stderr",
     "output_type": "stream",
     "text": [
      "C:\\Users\\fabia\\Miniconda3\\envs\\ds\\lib\\site-packages\\ipykernel_launcher.py:1: FutureWarning: The signature of `Series.to_csv` was aligned to that of `DataFrame.to_csv`, and argument 'header' will change its default value from False to True: please pass an explicit value to suppress this warning.\n",
      "  \"\"\"Entry point for launching an IPython kernel.\n"
     ]
    }
   ],
   "source": [
    "atendimento['CODIGO_SIGTAP_DO_PROCEDIMENTO'].to_csv('cod_atendido')"
   ]
  },
  {
   "cell_type": "code",
   "execution_count": 10,
   "metadata": {},
   "outputs": [
    {
     "name": "stderr",
     "output_type": "stream",
     "text": [
      "C:\\Users\\fabia\\Miniconda3\\envs\\ds\\lib\\site-packages\\ipykernel_launcher.py:1: FutureWarning: The signature of `Series.to_csv` was aligned to that of `DataFrame.to_csv`, and argument 'header' will change its default value from False to True: please pass an explicit value to suppress this warning.\n",
      "  \"\"\"Entry point for launching an IPython kernel.\n"
     ]
    }
   ],
   "source": [
    "agendamento['CODIGO_SIGTAP_DO_PROCEDIMENTO'].to_csv('cod_agendado')"
   ]
  },
  {
   "cell_type": "code",
   "execution_count": 18,
   "metadata": {},
   "outputs": [],
   "source": [
    "df1 = agendamento[agendamento['DOCUMENTO'].isin(atendimento['DOCUMENTO']) == 1]\n",
    "df0 = agendamento[agendamento['DOCUMENTO'].isin(atendimento['DOCUMENTO']) == 0]"
   ]
  },
  {
   "cell_type": "code",
   "execution_count": 19,
   "metadata": {},
   "outputs": [
    {
     "name": "stderr",
     "output_type": "stream",
     "text": [
      "C:\\Users\\fabia\\Miniconda3\\envs\\ds\\lib\\site-packages\\ipykernel_launcher.py:1: SettingWithCopyWarning: \n",
      "A value is trying to be set on a copy of a slice from a DataFrame.\n",
      "Try using .loc[row_indexer,col_indexer] = value instead\n",
      "\n",
      "See the caveats in the documentation: http://pandas.pydata.org/pandas-docs/stable/user_guide/indexing.html#returning-a-view-versus-a-copy\n",
      "  \"\"\"Entry point for launching an IPython kernel.\n",
      "C:\\Users\\fabia\\Miniconda3\\envs\\ds\\lib\\site-packages\\ipykernel_launcher.py:2: SettingWithCopyWarning: \n",
      "A value is trying to be set on a copy of a slice from a DataFrame.\n",
      "Try using .loc[row_indexer,col_indexer] = value instead\n",
      "\n",
      "See the caveats in the documentation: http://pandas.pydata.org/pandas-docs/stable/user_guide/indexing.html#returning-a-view-versus-a-copy\n",
      "  \n"
     ]
    }
   ],
   "source": [
    "df1['noshow'] = 1\n",
    "df0['noshow'] = 0"
   ]
  },
  {
   "cell_type": "code",
   "execution_count": 127,
   "metadata": {},
   "outputs": [],
   "source": [
    "df = pd.concat([df0, df1])"
   ]
  },
  {
   "cell_type": "code",
   "execution_count": 128,
   "metadata": {},
   "outputs": [
    {
     "data": {
      "text/plain": [
       "1    321768\n",
       "0    318725\n",
       "Name: noshow, dtype: int64"
      ]
     },
     "execution_count": 128,
     "metadata": {},
     "output_type": "execute_result"
    }
   ],
   "source": [
    "df.noshow.value_counts()"
   ]
  },
  {
   "cell_type": "code",
   "execution_count": 129,
   "metadata": {},
   "outputs": [],
   "source": [
    "## MELHORANDO AS CARACTERISTICAS ##"
   ]
  },
  {
   "cell_type": "code",
   "execution_count": 130,
   "metadata": {},
   "outputs": [
    {
     "data": {
      "text/plain": [
       "datetime.datetime(2019, 10, 19, 15, 12, 57, 439387)"
      ]
     },
     "execution_count": 130,
     "metadata": {},
     "output_type": "execute_result"
    }
   ],
   "source": [
    "from datetime import datetime  \n",
    "datetime.now()"
   ]
  },
  {
   "cell_type": "code",
   "execution_count": 131,
   "metadata": {},
   "outputs": [
    {
     "data": {
      "text/html": [
       "<div>\n",
       "<style scoped>\n",
       "    .dataframe tbody tr th:only-of-type {\n",
       "        vertical-align: middle;\n",
       "    }\n",
       "\n",
       "    .dataframe tbody tr th {\n",
       "        vertical-align: top;\n",
       "    }\n",
       "\n",
       "    .dataframe thead th {\n",
       "        text-align: right;\n",
       "    }\n",
       "</style>\n",
       "<table border=\"1\" class=\"dataframe\">\n",
       "  <thead>\n",
       "    <tr style=\"text-align: right;\">\n",
       "      <th></th>\n",
       "      <th>SERVICO</th>\n",
       "      <th>CENTRAL_DE_REGULACAO_RESPONSAVEL</th>\n",
       "      <th>MUNICIPIO_DE_RESIDENCIA</th>\n",
       "      <th>CLASSIFICACAO</th>\n",
       "      <th>TIPO_DA_LISTA</th>\n",
       "      <th>DOCUMENTO</th>\n",
       "      <th>DATA_DA_SOLICITACAO</th>\n",
       "      <th>DATA_DA_MARCACAO</th>\n",
       "      <th>DATA_DA_EXECUCAO</th>\n",
       "      <th>CIDADAO</th>\n",
       "      <th>NASCIMENTO</th>\n",
       "      <th>DESCRICAO_DO_PROCEDIMENTO</th>\n",
       "      <th>CNES_ESTABELECIMENTO_SOLICITANTE</th>\n",
       "      <th>CNES_CENTRAL_REGULADORA_SOLICITANTE</th>\n",
       "      <th>CNES_ESTABELECIMENTO_EXECUTANTE</th>\n",
       "      <th>DESCRICAO_ESTABELECIMENTO_EXECUTANTE</th>\n",
       "      <th>CODIGO_SIGTAP_DO_PROCEDIMENTO</th>\n",
       "      <th>DESCRICAO_DO_GRUPO_DO_PROCEDIMENTO</th>\n",
       "      <th>CONFIRMADO</th>\n",
       "      <th>noshow</th>\n",
       "    </tr>\n",
       "  </thead>\n",
       "  <tbody>\n",
       "    <tr>\n",
       "      <th>4</th>\n",
       "      <td>Consulta</td>\n",
       "      <td>CENTRAL DE REGULAÇÃO MUNICIPAL DE ÁGUAS MORNAS</td>\n",
       "      <td>UNIDADE DE SAUDE CENTRO</td>\n",
       "      <td>4 - Azul</td>\n",
       "      <td>Ordem cronologica</td>\n",
       "      <td>898000081202646</td>\n",
       "      <td>25-10-2010 0:0</td>\n",
       "      <td>26-03-2019 10:19</td>\n",
       "      <td>15-04-2019 12:30</td>\n",
       "      <td>MAURA HEINZ</td>\n",
       "      <td>27-04-1952</td>\n",
       "      <td>CONSULTA EM ACUPUNTURA</td>\n",
       "      <td>2609681</td>\n",
       "      <td>6388493</td>\n",
       "      <td>2407418</td>\n",
       "      <td>NaN</td>\n",
       "      <td>301010072</td>\n",
       "      <td>NaN</td>\n",
       "      <td>NaN</td>\n",
       "      <td>0</td>\n",
       "    </tr>\n",
       "    <tr>\n",
       "      <th>5</th>\n",
       "      <td>Consulta</td>\n",
       "      <td>COMPLEXO REGULADOR ESTADUAL DE SANTA CATARINA</td>\n",
       "      <td>CS VARGEM GRANDE</td>\n",
       "      <td>4 - Azul</td>\n",
       "      <td>Ordem cronologica</td>\n",
       "      <td>898000694410413</td>\n",
       "      <td>12-01-2011 0:0</td>\n",
       "      <td>03-04-2019 15:5</td>\n",
       "      <td>17-04-2019 13:0</td>\n",
       "      <td>MARCOS AURELIO MULLER</td>\n",
       "      <td>22-09-1971</td>\n",
       "      <td>CONSULTA EM ORTOPEDIA ADULTO (MAO)</td>\n",
       "      <td>2692147</td>\n",
       "      <td>5089778</td>\n",
       "      <td>2407418</td>\n",
       "      <td>NaN</td>\n",
       "      <td>301010072</td>\n",
       "      <td>NaN</td>\n",
       "      <td>NaN</td>\n",
       "      <td>0</td>\n",
       "    </tr>\n",
       "    <tr>\n",
       "      <th>44</th>\n",
       "      <td>Consulta</td>\n",
       "      <td>COMPLEXO REGULADOR ESTADUAL DE SANTA CATARINA</td>\n",
       "      <td>CENTRO DE ESPECIALIDADES ORLANDO BARRETO</td>\n",
       "      <td>3 - Verde</td>\n",
       "      <td>Ordem cronologica</td>\n",
       "      <td>898002938176335</td>\n",
       "      <td>16-08-2011 16:55</td>\n",
       "      <td>02-03-2019 8:1</td>\n",
       "      <td>26-03-2019 8:50</td>\n",
       "      <td>LUIZ ROBERTO PEREIRA</td>\n",
       "      <td>09-09-1947</td>\n",
       "      <td>CONSULTA EM OFTALMOLOGIA - PLASTICA OCULAR</td>\n",
       "      <td>2622890</td>\n",
       "      <td>2689359</td>\n",
       "      <td>2407418</td>\n",
       "      <td>NaN</td>\n",
       "      <td>301010072</td>\n",
       "      <td>NaN</td>\n",
       "      <td>NaN</td>\n",
       "      <td>0</td>\n",
       "    </tr>\n",
       "    <tr>\n",
       "      <th>52</th>\n",
       "      <td>Consulta</td>\n",
       "      <td>CENTRAL DE REGULAÇÃO MUNICIPAL DE ÁGUAS MORNAS</td>\n",
       "      <td>UNIDADE DE SAUDE CENTRO</td>\n",
       "      <td>4 - Azul</td>\n",
       "      <td>Ordem cronologica</td>\n",
       "      <td>898000081231050</td>\n",
       "      <td>03-09-2011 8:44</td>\n",
       "      <td>17-04-2019 7:16</td>\n",
       "      <td>07-05-2019 14:0</td>\n",
       "      <td>LUCIMERI MEURER</td>\n",
       "      <td>14-09-1974</td>\n",
       "      <td>CONSULTA EM CIRURGIA VASCULAR - GERAL</td>\n",
       "      <td>2609681</td>\n",
       "      <td>6388493</td>\n",
       "      <td>2407418</td>\n",
       "      <td>NaN</td>\n",
       "      <td>301010072</td>\n",
       "      <td>NaN</td>\n",
       "      <td>NaN</td>\n",
       "      <td>0</td>\n",
       "    </tr>\n",
       "    <tr>\n",
       "      <th>53</th>\n",
       "      <td>Consulta</td>\n",
       "      <td>COMPLEXO REGULADOR ESTADUAL DE SANTA CATARINA</td>\n",
       "      <td>SECRETARIA MUNICIPAL DE SAUDE DE BIGUACU</td>\n",
       "      <td>4 - Azul</td>\n",
       "      <td>Ordem cronologica</td>\n",
       "      <td>898002389015877</td>\n",
       "      <td>03-09-2011 15:8</td>\n",
       "      <td>07-02-2019 7:52</td>\n",
       "      <td>15-02-2019 12:30</td>\n",
       "      <td>IETE ISABEL MUNIZ</td>\n",
       "      <td>12-07-1962</td>\n",
       "      <td>CONSULTA EM OFTALMOLOGIA - PLASTICA OCULAR</td>\n",
       "      <td>6359582</td>\n",
       "      <td>7606907</td>\n",
       "      <td>2407418</td>\n",
       "      <td>NaN</td>\n",
       "      <td>301010072</td>\n",
       "      <td>NaN</td>\n",
       "      <td>NaN</td>\n",
       "      <td>0</td>\n",
       "    </tr>\n",
       "  </tbody>\n",
       "</table>\n",
       "</div>"
      ],
      "text/plain": [
       "     SERVICO                CENTRAL_DE_REGULACAO_RESPONSAVEL  \\\n",
       "4   Consulta  CENTRAL DE REGULAÇÃO MUNICIPAL DE ÁGUAS MORNAS   \n",
       "5   Consulta   COMPLEXO REGULADOR ESTADUAL DE SANTA CATARINA   \n",
       "44  Consulta   COMPLEXO REGULADOR ESTADUAL DE SANTA CATARINA   \n",
       "52  Consulta  CENTRAL DE REGULAÇÃO MUNICIPAL DE ÁGUAS MORNAS   \n",
       "53  Consulta   COMPLEXO REGULADOR ESTADUAL DE SANTA CATARINA   \n",
       "\n",
       "                     MUNICIPIO_DE_RESIDENCIA CLASSIFICACAO      TIPO_DA_LISTA  \\\n",
       "4                    UNIDADE DE SAUDE CENTRO      4 - Azul  Ordem cronologica   \n",
       "5                           CS VARGEM GRANDE      4 - Azul  Ordem cronologica   \n",
       "44  CENTRO DE ESPECIALIDADES ORLANDO BARRETO     3 - Verde  Ordem cronologica   \n",
       "52                   UNIDADE DE SAUDE CENTRO      4 - Azul  Ordem cronologica   \n",
       "53  SECRETARIA MUNICIPAL DE SAUDE DE BIGUACU      4 - Azul  Ordem cronologica   \n",
       "\n",
       "          DOCUMENTO DATA_DA_SOLICITACAO  DATA_DA_MARCACAO  DATA_DA_EXECUCAO  \\\n",
       "4   898000081202646      25-10-2010 0:0  26-03-2019 10:19  15-04-2019 12:30   \n",
       "5   898000694410413      12-01-2011 0:0   03-04-2019 15:5   17-04-2019 13:0   \n",
       "44  898002938176335    16-08-2011 16:55    02-03-2019 8:1   26-03-2019 8:50   \n",
       "52  898000081231050     03-09-2011 8:44   17-04-2019 7:16   07-05-2019 14:0   \n",
       "53  898002389015877     03-09-2011 15:8   07-02-2019 7:52  15-02-2019 12:30   \n",
       "\n",
       "                  CIDADAO  NASCIMENTO  \\\n",
       "4             MAURA HEINZ  27-04-1952   \n",
       "5   MARCOS AURELIO MULLER  22-09-1971   \n",
       "44   LUIZ ROBERTO PEREIRA  09-09-1947   \n",
       "52        LUCIMERI MEURER  14-09-1974   \n",
       "53      IETE ISABEL MUNIZ  12-07-1962   \n",
       "\n",
       "                     DESCRICAO_DO_PROCEDIMENTO  \\\n",
       "4                       CONSULTA EM ACUPUNTURA   \n",
       "5           CONSULTA EM ORTOPEDIA ADULTO (MAO)   \n",
       "44  CONSULTA EM OFTALMOLOGIA - PLASTICA OCULAR   \n",
       "52       CONSULTA EM CIRURGIA VASCULAR - GERAL   \n",
       "53  CONSULTA EM OFTALMOLOGIA - PLASTICA OCULAR   \n",
       "\n",
       "    CNES_ESTABELECIMENTO_SOLICITANTE CNES_CENTRAL_REGULADORA_SOLICITANTE  \\\n",
       "4                            2609681                             6388493   \n",
       "5                            2692147                             5089778   \n",
       "44                           2622890                             2689359   \n",
       "52                           2609681                             6388493   \n",
       "53                           6359582                             7606907   \n",
       "\n",
       "    CNES_ESTABELECIMENTO_EXECUTANTE  DESCRICAO_ESTABELECIMENTO_EXECUTANTE  \\\n",
       "4                           2407418                                   NaN   \n",
       "5                           2407418                                   NaN   \n",
       "44                          2407418                                   NaN   \n",
       "52                          2407418                                   NaN   \n",
       "53                          2407418                                   NaN   \n",
       "\n",
       "    CODIGO_SIGTAP_DO_PROCEDIMENTO DESCRICAO_DO_GRUPO_DO_PROCEDIMENTO  \\\n",
       "4                       301010072                                NaN   \n",
       "5                       301010072                                NaN   \n",
       "44                      301010072                                NaN   \n",
       "52                      301010072                                NaN   \n",
       "53                      301010072                                NaN   \n",
       "\n",
       "    CONFIRMADO  noshow  \n",
       "4          NaN       0  \n",
       "5          NaN       0  \n",
       "44         NaN       0  \n",
       "52         NaN       0  \n",
       "53         NaN       0  "
      ]
     },
     "execution_count": 131,
     "metadata": {},
     "output_type": "execute_result"
    }
   ],
   "source": [
    "df.head()"
   ]
  },
  {
   "cell_type": "code",
   "execution_count": 132,
   "metadata": {},
   "outputs": [
    {
     "data": {
      "text/plain": [
       "4         2019-04-15 12:30:00\n",
       "5         2019-04-17 13:00:00\n",
       "44        2019-03-26 08:50:00\n",
       "52        2019-05-07 14:00:00\n",
       "53        2019-02-15 12:30:00\n",
       "                  ...        \n",
       "3348782   2019-10-11 19:20:00\n",
       "3348784   2019-10-11 10:00:00\n",
       "3348788   2019-10-10 15:20:00\n",
       "3348789   2019-10-10 16:00:00\n",
       "3348793   2019-10-10 18:00:00\n",
       "Name: DATA_DA_EXECUCAO, Length: 640493, dtype: datetime64[ns]"
      ]
     },
     "execution_count": 132,
     "metadata": {},
     "output_type": "execute_result"
    }
   ],
   "source": [
    "df['DATA_DA_EXECUCAO'] = pd.to_datetime(df['DATA_DA_EXECUCAO'], format=\"%d-%m-%Y %H:%M\")\n",
    "df['DATA_DA_EXECUCAO']"
   ]
  },
  {
   "cell_type": "code",
   "execution_count": 133,
   "metadata": {
    "scrolled": true
   },
   "outputs": [
    {
     "data": {
      "text/plain": [
       "4          27-04-1952\n",
       "5          22-09-1971\n",
       "44         09-09-1947\n",
       "52         14-09-1974\n",
       "53         12-07-1962\n",
       "              ...    \n",
       "3348782    20-05-1982\n",
       "3348784    16-10-2001\n",
       "3348788    06-03-1964\n",
       "3348789    29-11-2002\n",
       "3348793    30-05-1974\n",
       "Name: NASCIMENTO, Length: 640493, dtype: object"
      ]
     },
     "execution_count": 133,
     "metadata": {},
     "output_type": "execute_result"
    }
   ],
   "source": [
    "df['NASCIMENTO']"
   ]
  },
  {
   "cell_type": "code",
   "execution_count": 134,
   "metadata": {},
   "outputs": [],
   "source": [
    "df['NASCIMENTO'] = pd.to_datetime(df['NASCIMENTO'], format='%d-%m-%Y')"
   ]
  },
  {
   "cell_type": "code",
   "execution_count": 135,
   "metadata": {},
   "outputs": [],
   "source": [
    "df['ANO_NASCIMENTO'] = pd.DatetimeIndex(df['NASCIMENTO']).year"
   ]
  },
  {
   "cell_type": "code",
   "execution_count": 136,
   "metadata": {},
   "outputs": [
    {
     "data": {
      "text/plain": [
       "4          1952\n",
       "5          1971\n",
       "44         1947\n",
       "52         1974\n",
       "53         1962\n",
       "           ... \n",
       "3348782    1982\n",
       "3348784    2001\n",
       "3348788    1964\n",
       "3348789    2002\n",
       "3348793    1974\n",
       "Name: ANO_NASCIMENTO, Length: 640493, dtype: int64"
      ]
     },
     "execution_count": 136,
     "metadata": {},
     "output_type": "execute_result"
    }
   ],
   "source": [
    "df['ANO_NASCIMENTO']"
   ]
  },
  {
   "cell_type": "code",
   "execution_count": 137,
   "metadata": {},
   "outputs": [],
   "source": [
    "df['DTNOW'] = dt.datetime.now()"
   ]
  },
  {
   "cell_type": "code",
   "execution_count": 138,
   "metadata": {},
   "outputs": [],
   "source": [
    "df['NOW'] = df['DTNOW'].dt.year"
   ]
  },
  {
   "cell_type": "code",
   "execution_count": 139,
   "metadata": {},
   "outputs": [],
   "source": [
    "df['NOW'] = df['NOW'].astype(int)\n",
    "df['ANO_NASCIMENTO'] = df['ANO_NASCIMENTO'].astype(int)"
   ]
  },
  {
   "cell_type": "code",
   "execution_count": 140,
   "metadata": {},
   "outputs": [],
   "source": [
    "df['IDADE'] = df['NOW'] - df['ANO_NASCIMENTO']"
   ]
  },
  {
   "cell_type": "code",
   "execution_count": 141,
   "metadata": {},
   "outputs": [
    {
     "data": {
      "text/html": [
       "<div>\n",
       "<style scoped>\n",
       "    .dataframe tbody tr th:only-of-type {\n",
       "        vertical-align: middle;\n",
       "    }\n",
       "\n",
       "    .dataframe tbody tr th {\n",
       "        vertical-align: top;\n",
       "    }\n",
       "\n",
       "    .dataframe thead th {\n",
       "        text-align: right;\n",
       "    }\n",
       "</style>\n",
       "<table border=\"1\" class=\"dataframe\">\n",
       "  <thead>\n",
       "    <tr style=\"text-align: right;\">\n",
       "      <th></th>\n",
       "      <th>SERVICO</th>\n",
       "      <th>CENTRAL_DE_REGULACAO_RESPONSAVEL</th>\n",
       "      <th>MUNICIPIO_DE_RESIDENCIA</th>\n",
       "      <th>CLASSIFICACAO</th>\n",
       "      <th>TIPO_DA_LISTA</th>\n",
       "      <th>DOCUMENTO</th>\n",
       "      <th>DATA_DA_SOLICITACAO</th>\n",
       "      <th>DATA_DA_MARCACAO</th>\n",
       "      <th>DATA_DA_EXECUCAO</th>\n",
       "      <th>CIDADAO</th>\n",
       "      <th>...</th>\n",
       "      <th>CNES_ESTABELECIMENTO_EXECUTANTE</th>\n",
       "      <th>DESCRICAO_ESTABELECIMENTO_EXECUTANTE</th>\n",
       "      <th>CODIGO_SIGTAP_DO_PROCEDIMENTO</th>\n",
       "      <th>DESCRICAO_DO_GRUPO_DO_PROCEDIMENTO</th>\n",
       "      <th>CONFIRMADO</th>\n",
       "      <th>noshow</th>\n",
       "      <th>ANO_NASCIMENTO</th>\n",
       "      <th>DTNOW</th>\n",
       "      <th>NOW</th>\n",
       "      <th>IDADE</th>\n",
       "    </tr>\n",
       "  </thead>\n",
       "  <tbody>\n",
       "    <tr>\n",
       "      <th>4</th>\n",
       "      <td>Consulta</td>\n",
       "      <td>CENTRAL DE REGULAÇÃO MUNICIPAL DE ÁGUAS MORNAS</td>\n",
       "      <td>UNIDADE DE SAUDE CENTRO</td>\n",
       "      <td>4 - Azul</td>\n",
       "      <td>Ordem cronologica</td>\n",
       "      <td>898000081202646</td>\n",
       "      <td>25-10-2010 0:0</td>\n",
       "      <td>26-03-2019 10:19</td>\n",
       "      <td>2019-04-15 12:30:00</td>\n",
       "      <td>MAURA HEINZ</td>\n",
       "      <td>...</td>\n",
       "      <td>2407418</td>\n",
       "      <td>NaN</td>\n",
       "      <td>301010072</td>\n",
       "      <td>NaN</td>\n",
       "      <td>NaN</td>\n",
       "      <td>0</td>\n",
       "      <td>1952</td>\n",
       "      <td>2019-10-19 15:12:59.766550</td>\n",
       "      <td>2019</td>\n",
       "      <td>67</td>\n",
       "    </tr>\n",
       "    <tr>\n",
       "      <th>5</th>\n",
       "      <td>Consulta</td>\n",
       "      <td>COMPLEXO REGULADOR ESTADUAL DE SANTA CATARINA</td>\n",
       "      <td>CS VARGEM GRANDE</td>\n",
       "      <td>4 - Azul</td>\n",
       "      <td>Ordem cronologica</td>\n",
       "      <td>898000694410413</td>\n",
       "      <td>12-01-2011 0:0</td>\n",
       "      <td>03-04-2019 15:5</td>\n",
       "      <td>2019-04-17 13:00:00</td>\n",
       "      <td>MARCOS AURELIO MULLER</td>\n",
       "      <td>...</td>\n",
       "      <td>2407418</td>\n",
       "      <td>NaN</td>\n",
       "      <td>301010072</td>\n",
       "      <td>NaN</td>\n",
       "      <td>NaN</td>\n",
       "      <td>0</td>\n",
       "      <td>1971</td>\n",
       "      <td>2019-10-19 15:12:59.766550</td>\n",
       "      <td>2019</td>\n",
       "      <td>48</td>\n",
       "    </tr>\n",
       "    <tr>\n",
       "      <th>44</th>\n",
       "      <td>Consulta</td>\n",
       "      <td>COMPLEXO REGULADOR ESTADUAL DE SANTA CATARINA</td>\n",
       "      <td>CENTRO DE ESPECIALIDADES ORLANDO BARRETO</td>\n",
       "      <td>3 - Verde</td>\n",
       "      <td>Ordem cronologica</td>\n",
       "      <td>898002938176335</td>\n",
       "      <td>16-08-2011 16:55</td>\n",
       "      <td>02-03-2019 8:1</td>\n",
       "      <td>2019-03-26 08:50:00</td>\n",
       "      <td>LUIZ ROBERTO PEREIRA</td>\n",
       "      <td>...</td>\n",
       "      <td>2407418</td>\n",
       "      <td>NaN</td>\n",
       "      <td>301010072</td>\n",
       "      <td>NaN</td>\n",
       "      <td>NaN</td>\n",
       "      <td>0</td>\n",
       "      <td>1947</td>\n",
       "      <td>2019-10-19 15:12:59.766550</td>\n",
       "      <td>2019</td>\n",
       "      <td>72</td>\n",
       "    </tr>\n",
       "    <tr>\n",
       "      <th>52</th>\n",
       "      <td>Consulta</td>\n",
       "      <td>CENTRAL DE REGULAÇÃO MUNICIPAL DE ÁGUAS MORNAS</td>\n",
       "      <td>UNIDADE DE SAUDE CENTRO</td>\n",
       "      <td>4 - Azul</td>\n",
       "      <td>Ordem cronologica</td>\n",
       "      <td>898000081231050</td>\n",
       "      <td>03-09-2011 8:44</td>\n",
       "      <td>17-04-2019 7:16</td>\n",
       "      <td>2019-05-07 14:00:00</td>\n",
       "      <td>LUCIMERI MEURER</td>\n",
       "      <td>...</td>\n",
       "      <td>2407418</td>\n",
       "      <td>NaN</td>\n",
       "      <td>301010072</td>\n",
       "      <td>NaN</td>\n",
       "      <td>NaN</td>\n",
       "      <td>0</td>\n",
       "      <td>1974</td>\n",
       "      <td>2019-10-19 15:12:59.766550</td>\n",
       "      <td>2019</td>\n",
       "      <td>45</td>\n",
       "    </tr>\n",
       "    <tr>\n",
       "      <th>53</th>\n",
       "      <td>Consulta</td>\n",
       "      <td>COMPLEXO REGULADOR ESTADUAL DE SANTA CATARINA</td>\n",
       "      <td>SECRETARIA MUNICIPAL DE SAUDE DE BIGUACU</td>\n",
       "      <td>4 - Azul</td>\n",
       "      <td>Ordem cronologica</td>\n",
       "      <td>898002389015877</td>\n",
       "      <td>03-09-2011 15:8</td>\n",
       "      <td>07-02-2019 7:52</td>\n",
       "      <td>2019-02-15 12:30:00</td>\n",
       "      <td>IETE ISABEL MUNIZ</td>\n",
       "      <td>...</td>\n",
       "      <td>2407418</td>\n",
       "      <td>NaN</td>\n",
       "      <td>301010072</td>\n",
       "      <td>NaN</td>\n",
       "      <td>NaN</td>\n",
       "      <td>0</td>\n",
       "      <td>1962</td>\n",
       "      <td>2019-10-19 15:12:59.766550</td>\n",
       "      <td>2019</td>\n",
       "      <td>57</td>\n",
       "    </tr>\n",
       "  </tbody>\n",
       "</table>\n",
       "<p>5 rows × 24 columns</p>\n",
       "</div>"
      ],
      "text/plain": [
       "     SERVICO                CENTRAL_DE_REGULACAO_RESPONSAVEL  \\\n",
       "4   Consulta  CENTRAL DE REGULAÇÃO MUNICIPAL DE ÁGUAS MORNAS   \n",
       "5   Consulta   COMPLEXO REGULADOR ESTADUAL DE SANTA CATARINA   \n",
       "44  Consulta   COMPLEXO REGULADOR ESTADUAL DE SANTA CATARINA   \n",
       "52  Consulta  CENTRAL DE REGULAÇÃO MUNICIPAL DE ÁGUAS MORNAS   \n",
       "53  Consulta   COMPLEXO REGULADOR ESTADUAL DE SANTA CATARINA   \n",
       "\n",
       "                     MUNICIPIO_DE_RESIDENCIA CLASSIFICACAO      TIPO_DA_LISTA  \\\n",
       "4                    UNIDADE DE SAUDE CENTRO      4 - Azul  Ordem cronologica   \n",
       "5                           CS VARGEM GRANDE      4 - Azul  Ordem cronologica   \n",
       "44  CENTRO DE ESPECIALIDADES ORLANDO BARRETO     3 - Verde  Ordem cronologica   \n",
       "52                   UNIDADE DE SAUDE CENTRO      4 - Azul  Ordem cronologica   \n",
       "53  SECRETARIA MUNICIPAL DE SAUDE DE BIGUACU      4 - Azul  Ordem cronologica   \n",
       "\n",
       "          DOCUMENTO DATA_DA_SOLICITACAO  DATA_DA_MARCACAO    DATA_DA_EXECUCAO  \\\n",
       "4   898000081202646      25-10-2010 0:0  26-03-2019 10:19 2019-04-15 12:30:00   \n",
       "5   898000694410413      12-01-2011 0:0   03-04-2019 15:5 2019-04-17 13:00:00   \n",
       "44  898002938176335    16-08-2011 16:55    02-03-2019 8:1 2019-03-26 08:50:00   \n",
       "52  898000081231050     03-09-2011 8:44   17-04-2019 7:16 2019-05-07 14:00:00   \n",
       "53  898002389015877     03-09-2011 15:8   07-02-2019 7:52 2019-02-15 12:30:00   \n",
       "\n",
       "                  CIDADAO  ... CNES_ESTABELECIMENTO_EXECUTANTE  \\\n",
       "4             MAURA HEINZ  ...                         2407418   \n",
       "5   MARCOS AURELIO MULLER  ...                         2407418   \n",
       "44   LUIZ ROBERTO PEREIRA  ...                         2407418   \n",
       "52        LUCIMERI MEURER  ...                         2407418   \n",
       "53      IETE ISABEL MUNIZ  ...                         2407418   \n",
       "\n",
       "   DESCRICAO_ESTABELECIMENTO_EXECUTANTE  CODIGO_SIGTAP_DO_PROCEDIMENTO  \\\n",
       "4                                   NaN                      301010072   \n",
       "5                                   NaN                      301010072   \n",
       "44                                  NaN                      301010072   \n",
       "52                                  NaN                      301010072   \n",
       "53                                  NaN                      301010072   \n",
       "\n",
       "   DESCRICAO_DO_GRUPO_DO_PROCEDIMENTO  CONFIRMADO  noshow  ANO_NASCIMENTO  \\\n",
       "4                                 NaN         NaN       0            1952   \n",
       "5                                 NaN         NaN       0            1971   \n",
       "44                                NaN         NaN       0            1947   \n",
       "52                                NaN         NaN       0            1974   \n",
       "53                                NaN         NaN       0            1962   \n",
       "\n",
       "                        DTNOW   NOW  IDADE  \n",
       "4  2019-10-19 15:12:59.766550  2019     67  \n",
       "5  2019-10-19 15:12:59.766550  2019     48  \n",
       "44 2019-10-19 15:12:59.766550  2019     72  \n",
       "52 2019-10-19 15:12:59.766550  2019     45  \n",
       "53 2019-10-19 15:12:59.766550  2019     57  \n",
       "\n",
       "[5 rows x 24 columns]"
      ]
     },
     "execution_count": 141,
     "metadata": {},
     "output_type": "execute_result"
    }
   ],
   "source": [
    "df.head()"
   ]
  },
  {
   "cell_type": "code",
   "execution_count": 142,
   "metadata": {},
   "outputs": [],
   "source": [
    "df = df[df['DATA_DA_EXECUCAO'] < pd.Timestamp.now()]"
   ]
  },
  {
   "cell_type": "code",
   "execution_count": 143,
   "metadata": {},
   "outputs": [
    {
     "data": {
      "text/html": [
       "<div>\n",
       "<style scoped>\n",
       "    .dataframe tbody tr th:only-of-type {\n",
       "        vertical-align: middle;\n",
       "    }\n",
       "\n",
       "    .dataframe tbody tr th {\n",
       "        vertical-align: top;\n",
       "    }\n",
       "\n",
       "    .dataframe thead th {\n",
       "        text-align: right;\n",
       "    }\n",
       "</style>\n",
       "<table border=\"1\" class=\"dataframe\">\n",
       "  <thead>\n",
       "    <tr style=\"text-align: right;\">\n",
       "      <th></th>\n",
       "      <th>SERVICO</th>\n",
       "      <th>CENTRAL_DE_REGULACAO_RESPONSAVEL</th>\n",
       "      <th>MUNICIPIO_DE_RESIDENCIA</th>\n",
       "      <th>CLASSIFICACAO</th>\n",
       "      <th>TIPO_DA_LISTA</th>\n",
       "      <th>DOCUMENTO</th>\n",
       "      <th>DATA_DA_SOLICITACAO</th>\n",
       "      <th>DATA_DA_MARCACAO</th>\n",
       "      <th>DATA_DA_EXECUCAO</th>\n",
       "      <th>CIDADAO</th>\n",
       "      <th>...</th>\n",
       "      <th>CNES_ESTABELECIMENTO_EXECUTANTE</th>\n",
       "      <th>DESCRICAO_ESTABELECIMENTO_EXECUTANTE</th>\n",
       "      <th>CODIGO_SIGTAP_DO_PROCEDIMENTO</th>\n",
       "      <th>DESCRICAO_DO_GRUPO_DO_PROCEDIMENTO</th>\n",
       "      <th>CONFIRMADO</th>\n",
       "      <th>noshow</th>\n",
       "      <th>ANO_NASCIMENTO</th>\n",
       "      <th>DTNOW</th>\n",
       "      <th>NOW</th>\n",
       "      <th>IDADE</th>\n",
       "    </tr>\n",
       "  </thead>\n",
       "  <tbody>\n",
       "    <tr>\n",
       "      <th>4</th>\n",
       "      <td>Consulta</td>\n",
       "      <td>CENTRAL DE REGULAÇÃO MUNICIPAL DE ÁGUAS MORNAS</td>\n",
       "      <td>UNIDADE DE SAUDE CENTRO</td>\n",
       "      <td>4 - Azul</td>\n",
       "      <td>Ordem cronologica</td>\n",
       "      <td>898000081202646</td>\n",
       "      <td>25-10-2010 0:0</td>\n",
       "      <td>26-03-2019 10:19</td>\n",
       "      <td>2019-04-15 12:30:00</td>\n",
       "      <td>MAURA HEINZ</td>\n",
       "      <td>...</td>\n",
       "      <td>2407418</td>\n",
       "      <td>NaN</td>\n",
       "      <td>301010072</td>\n",
       "      <td>NaN</td>\n",
       "      <td>NaN</td>\n",
       "      <td>0</td>\n",
       "      <td>1952</td>\n",
       "      <td>2019-10-19 15:12:59.766550</td>\n",
       "      <td>2019</td>\n",
       "      <td>67</td>\n",
       "    </tr>\n",
       "    <tr>\n",
       "      <th>5</th>\n",
       "      <td>Consulta</td>\n",
       "      <td>COMPLEXO REGULADOR ESTADUAL DE SANTA CATARINA</td>\n",
       "      <td>CS VARGEM GRANDE</td>\n",
       "      <td>4 - Azul</td>\n",
       "      <td>Ordem cronologica</td>\n",
       "      <td>898000694410413</td>\n",
       "      <td>12-01-2011 0:0</td>\n",
       "      <td>03-04-2019 15:5</td>\n",
       "      <td>2019-04-17 13:00:00</td>\n",
       "      <td>MARCOS AURELIO MULLER</td>\n",
       "      <td>...</td>\n",
       "      <td>2407418</td>\n",
       "      <td>NaN</td>\n",
       "      <td>301010072</td>\n",
       "      <td>NaN</td>\n",
       "      <td>NaN</td>\n",
       "      <td>0</td>\n",
       "      <td>1971</td>\n",
       "      <td>2019-10-19 15:12:59.766550</td>\n",
       "      <td>2019</td>\n",
       "      <td>48</td>\n",
       "    </tr>\n",
       "    <tr>\n",
       "      <th>44</th>\n",
       "      <td>Consulta</td>\n",
       "      <td>COMPLEXO REGULADOR ESTADUAL DE SANTA CATARINA</td>\n",
       "      <td>CENTRO DE ESPECIALIDADES ORLANDO BARRETO</td>\n",
       "      <td>3 - Verde</td>\n",
       "      <td>Ordem cronologica</td>\n",
       "      <td>898002938176335</td>\n",
       "      <td>16-08-2011 16:55</td>\n",
       "      <td>02-03-2019 8:1</td>\n",
       "      <td>2019-03-26 08:50:00</td>\n",
       "      <td>LUIZ ROBERTO PEREIRA</td>\n",
       "      <td>...</td>\n",
       "      <td>2407418</td>\n",
       "      <td>NaN</td>\n",
       "      <td>301010072</td>\n",
       "      <td>NaN</td>\n",
       "      <td>NaN</td>\n",
       "      <td>0</td>\n",
       "      <td>1947</td>\n",
       "      <td>2019-10-19 15:12:59.766550</td>\n",
       "      <td>2019</td>\n",
       "      <td>72</td>\n",
       "    </tr>\n",
       "    <tr>\n",
       "      <th>52</th>\n",
       "      <td>Consulta</td>\n",
       "      <td>CENTRAL DE REGULAÇÃO MUNICIPAL DE ÁGUAS MORNAS</td>\n",
       "      <td>UNIDADE DE SAUDE CENTRO</td>\n",
       "      <td>4 - Azul</td>\n",
       "      <td>Ordem cronologica</td>\n",
       "      <td>898000081231050</td>\n",
       "      <td>03-09-2011 8:44</td>\n",
       "      <td>17-04-2019 7:16</td>\n",
       "      <td>2019-05-07 14:00:00</td>\n",
       "      <td>LUCIMERI MEURER</td>\n",
       "      <td>...</td>\n",
       "      <td>2407418</td>\n",
       "      <td>NaN</td>\n",
       "      <td>301010072</td>\n",
       "      <td>NaN</td>\n",
       "      <td>NaN</td>\n",
       "      <td>0</td>\n",
       "      <td>1974</td>\n",
       "      <td>2019-10-19 15:12:59.766550</td>\n",
       "      <td>2019</td>\n",
       "      <td>45</td>\n",
       "    </tr>\n",
       "    <tr>\n",
       "      <th>53</th>\n",
       "      <td>Consulta</td>\n",
       "      <td>COMPLEXO REGULADOR ESTADUAL DE SANTA CATARINA</td>\n",
       "      <td>SECRETARIA MUNICIPAL DE SAUDE DE BIGUACU</td>\n",
       "      <td>4 - Azul</td>\n",
       "      <td>Ordem cronologica</td>\n",
       "      <td>898002389015877</td>\n",
       "      <td>03-09-2011 15:8</td>\n",
       "      <td>07-02-2019 7:52</td>\n",
       "      <td>2019-02-15 12:30:00</td>\n",
       "      <td>IETE ISABEL MUNIZ</td>\n",
       "      <td>...</td>\n",
       "      <td>2407418</td>\n",
       "      <td>NaN</td>\n",
       "      <td>301010072</td>\n",
       "      <td>NaN</td>\n",
       "      <td>NaN</td>\n",
       "      <td>0</td>\n",
       "      <td>1962</td>\n",
       "      <td>2019-10-19 15:12:59.766550</td>\n",
       "      <td>2019</td>\n",
       "      <td>57</td>\n",
       "    </tr>\n",
       "  </tbody>\n",
       "</table>\n",
       "<p>5 rows × 24 columns</p>\n",
       "</div>"
      ],
      "text/plain": [
       "     SERVICO                CENTRAL_DE_REGULACAO_RESPONSAVEL  \\\n",
       "4   Consulta  CENTRAL DE REGULAÇÃO MUNICIPAL DE ÁGUAS MORNAS   \n",
       "5   Consulta   COMPLEXO REGULADOR ESTADUAL DE SANTA CATARINA   \n",
       "44  Consulta   COMPLEXO REGULADOR ESTADUAL DE SANTA CATARINA   \n",
       "52  Consulta  CENTRAL DE REGULAÇÃO MUNICIPAL DE ÁGUAS MORNAS   \n",
       "53  Consulta   COMPLEXO REGULADOR ESTADUAL DE SANTA CATARINA   \n",
       "\n",
       "                     MUNICIPIO_DE_RESIDENCIA CLASSIFICACAO      TIPO_DA_LISTA  \\\n",
       "4                    UNIDADE DE SAUDE CENTRO      4 - Azul  Ordem cronologica   \n",
       "5                           CS VARGEM GRANDE      4 - Azul  Ordem cronologica   \n",
       "44  CENTRO DE ESPECIALIDADES ORLANDO BARRETO     3 - Verde  Ordem cronologica   \n",
       "52                   UNIDADE DE SAUDE CENTRO      4 - Azul  Ordem cronologica   \n",
       "53  SECRETARIA MUNICIPAL DE SAUDE DE BIGUACU      4 - Azul  Ordem cronologica   \n",
       "\n",
       "          DOCUMENTO DATA_DA_SOLICITACAO  DATA_DA_MARCACAO    DATA_DA_EXECUCAO  \\\n",
       "4   898000081202646      25-10-2010 0:0  26-03-2019 10:19 2019-04-15 12:30:00   \n",
       "5   898000694410413      12-01-2011 0:0   03-04-2019 15:5 2019-04-17 13:00:00   \n",
       "44  898002938176335    16-08-2011 16:55    02-03-2019 8:1 2019-03-26 08:50:00   \n",
       "52  898000081231050     03-09-2011 8:44   17-04-2019 7:16 2019-05-07 14:00:00   \n",
       "53  898002389015877     03-09-2011 15:8   07-02-2019 7:52 2019-02-15 12:30:00   \n",
       "\n",
       "                  CIDADAO  ... CNES_ESTABELECIMENTO_EXECUTANTE  \\\n",
       "4             MAURA HEINZ  ...                         2407418   \n",
       "5   MARCOS AURELIO MULLER  ...                         2407418   \n",
       "44   LUIZ ROBERTO PEREIRA  ...                         2407418   \n",
       "52        LUCIMERI MEURER  ...                         2407418   \n",
       "53      IETE ISABEL MUNIZ  ...                         2407418   \n",
       "\n",
       "   DESCRICAO_ESTABELECIMENTO_EXECUTANTE  CODIGO_SIGTAP_DO_PROCEDIMENTO  \\\n",
       "4                                   NaN                      301010072   \n",
       "5                                   NaN                      301010072   \n",
       "44                                  NaN                      301010072   \n",
       "52                                  NaN                      301010072   \n",
       "53                                  NaN                      301010072   \n",
       "\n",
       "   DESCRICAO_DO_GRUPO_DO_PROCEDIMENTO  CONFIRMADO  noshow  ANO_NASCIMENTO  \\\n",
       "4                                 NaN         NaN       0            1952   \n",
       "5                                 NaN         NaN       0            1971   \n",
       "44                                NaN         NaN       0            1947   \n",
       "52                                NaN         NaN       0            1974   \n",
       "53                                NaN         NaN       0            1962   \n",
       "\n",
       "                        DTNOW   NOW  IDADE  \n",
       "4  2019-10-19 15:12:59.766550  2019     67  \n",
       "5  2019-10-19 15:12:59.766550  2019     48  \n",
       "44 2019-10-19 15:12:59.766550  2019     72  \n",
       "52 2019-10-19 15:12:59.766550  2019     45  \n",
       "53 2019-10-19 15:12:59.766550  2019     57  \n",
       "\n",
       "[5 rows x 24 columns]"
      ]
     },
     "execution_count": 143,
     "metadata": {},
     "output_type": "execute_result"
    }
   ],
   "source": [
    "df.head()"
   ]
  },
  {
   "cell_type": "code",
   "execution_count": 144,
   "metadata": {},
   "outputs": [
    {
     "data": {
      "text/plain": [
       "0    313797\n",
       "1    307720\n",
       "Name: noshow, dtype: int64"
      ]
     },
     "execution_count": 144,
     "metadata": {},
     "output_type": "execute_result"
    }
   ],
   "source": [
    "df.noshow.value_counts()"
   ]
  },
  {
   "cell_type": "code",
   "execution_count": 145,
   "metadata": {},
   "outputs": [],
   "source": [
    "df.to_csv('noshow.csv')"
   ]
  }
 ],
 "metadata": {
  "kernelspec": {
   "display_name": "Python 3",
   "language": "python",
   "name": "python3"
  },
  "language_info": {
   "codemirror_mode": {
    "name": "ipython",
    "version": 3
   },
   "file_extension": ".py",
   "mimetype": "text/x-python",
   "name": "python",
   "nbconvert_exporter": "python",
   "pygments_lexer": "ipython3",
   "version": "3.7.4"
  }
 },
 "nbformat": 4,
 "nbformat_minor": 4
}
